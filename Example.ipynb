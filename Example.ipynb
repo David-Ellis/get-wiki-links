{
 "cells": [
  {
   "cell_type": "markdown",
   "metadata": {},
   "source": [
    "# Example Script for getting sources from Wikipedia"
   ]
  },
  {
   "cell_type": "code",
   "execution_count": 2,
   "metadata": {},
   "outputs": [
    {
     "name": "stdout",
     "output_type": "stream",
     "text": [
      "4 of 4 complete\r"
     ]
    }
   ],
   "source": [
    "import WikiLinks as wl\n",
    "\n",
    "url = \"https://en.wikipedia.org/wiki/Beautiful_Soup_(HTML_parser)\"\n",
    "wikiRefs = wl.getWikiRefs(url, progress=True)"
   ]
  },
  {
   "cell_type": "markdown",
   "metadata": {},
   "source": [
    "## Print item"
   ]
  },
  {
   "cell_type": "code",
   "execution_count": 3,
   "metadata": {},
   "outputs": [
    {
     "name": "stdout",
     "output_type": "stream",
     "text": [
      "Title:\t 10.1007/978-1-4842-3925-4_3 \n",
      "Source:\t Website Scraping with Python: Using BeautifulSoup and Scrapy \n",
      "Date:\t None \n",
      "URL:\t https://doi.org/10.1007%2F978-1-4842-3925-4_3 \n",
      "Image:\t https://static-content.springer.com/cover/book/978-1-4842-3925-4.jpg \n",
      "Desc:\t In this chapter, you will learn how to use Beautiful Soup, a lightweight Python library, to extract and navigate HTML content easily and forget overly complex regular expressions and text parsing. \n",
      "\n"
     ]
    }
   ],
   "source": [
    "wikiRefs[1].print_ref()"
   ]
  },
  {
   "cell_type": "markdown",
   "metadata": {},
   "source": [
    "## Update item"
   ]
  },
  {
   "cell_type": "code",
   "execution_count": 4,
   "metadata": {},
   "outputs": [
    {
     "name": "stdin",
     "output_type": "stream",
     "text": [
      "New date: 2018\n",
      "Is this correct? [y/n] : y\n"
     ]
    }
   ],
   "source": [
    "wikiRefs[1].update(\"date\")"
   ]
  },
  {
   "cell_type": "code",
   "execution_count": 5,
   "metadata": {},
   "outputs": [
    {
     "name": "stdout",
     "output_type": "stream",
     "text": [
      "Title:\t 10.1007/978-1-4842-3925-4_3 \n",
      "Source:\t Website Scraping with Python: Using BeautifulSoup and Scrapy \n",
      "Date:\t 2018 \n",
      "URL:\t https://doi.org/10.1007%2F978-1-4842-3925-4_3 \n",
      "Image:\t https://static-content.springer.com/cover/book/978-1-4842-3925-4.jpg \n",
      "Desc:\t In this chapter, you will learn how to use Beautiful Soup, a lightweight Python library, to extract and navigate HTML content easily and forget overly complex regular expressions and text parsing. \n",
      "\n"
     ]
    }
   ],
   "source": [
    "wikiRefs[1].print_ref()"
   ]
  },
  {
   "cell_type": "markdown",
   "metadata": {},
   "source": [
    "## Save items to csv file\n",
    "\n",
    "You can add additional "
   ]
  },
  {
   "cell_type": "code",
   "execution_count": 6,
   "metadata": {},
   "outputs": [
    {
     "name": "stdout",
     "output_type": "stream",
     "text": [
      "Save file does not exist.\n"
     ]
    },
    {
     "name": "stdin",
     "output_type": "stream",
     "text": [
      "Make new file \" Example.csv \" ? [y/n] y\n"
     ]
    }
   ],
   "source": [
    "extra_headers = [\"Theme\"]\n",
    "extra_items = [\"Python\"]\n",
    "\n",
    "for item in wikiRefs:\n",
    "    item.save(\"Example.csv\", extra_headers, extra_items)"
   ]
  },
  {
   "cell_type": "markdown",
   "metadata": {},
   "source": [
    "## Loading the csv file"
   ]
  },
  {
   "cell_type": "code",
   "execution_count": 11,
   "metadata": {},
   "outputs": [
    {
     "name": "stdout",
     "output_type": "stream",
     "text": [
      "Theme \t: Python\n",
      "Title \t: 10.1007/978-1-4842-3925-4_3\n",
      "Date \t: 2018\n",
      "Source \t: Website Scraping with Python: Using BeautifulSoup and Scrapy\n",
      "URL \t: https://doi.org/10.1007%2F978-1-4842-3925-4_3\n",
      "Description \t: In this chapter, you will learn how to use Beautiful Soup, a lightweight Python library, to extract and navigate HTML content easily and forget overly complex regular expressions and text parsing.\n",
      "Image \t: https://static-content.springer.com/cover/book/978-1-4842-3925-4.jpg\n"
     ]
    }
   ],
   "source": [
    "import csv\n",
    "\n",
    "# load all items into a list\n",
    "with open(\"Example.csv\",'r', newline='\\n') as csv_file:\n",
    "    csv_reader = csv.DictReader(csv_file, delimiter=';')\n",
    "    items = [item for item in csv_reader]\n",
    "        \n",
    "# print second item\n",
    "for key in items[1].keys():\n",
    "    print(key, \"\\t:\", items[1][key])"
   ]
  },
  {
   "cell_type": "code",
   "execution_count": null,
   "metadata": {},
   "outputs": [],
   "source": []
  }
 ],
 "metadata": {
  "kernelspec": {
   "display_name": "Python 3",
   "language": "python",
   "name": "python3"
  },
  "language_info": {
   "codemirror_mode": {
    "name": "ipython",
    "version": 3
   },
   "file_extension": ".py",
   "mimetype": "text/x-python",
   "name": "python",
   "nbconvert_exporter": "python",
   "pygments_lexer": "ipython3",
   "version": "3.7.6"
  }
 },
 "nbformat": 4,
 "nbformat_minor": 4
}
