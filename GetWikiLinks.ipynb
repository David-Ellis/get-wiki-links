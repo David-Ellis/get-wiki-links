{
 "cells": [
  {
   "cell_type": "code",
   "execution_count": 1,
   "metadata": {},
   "outputs": [],
   "source": [
    "import WikiLinks as wl\n",
    "\n",
    "import numpy as np\n",
    "\n",
    "def capitaliseFirst(stringList):\n",
    "    for i, string in enumerate(stringList):\n",
    "        split = string.split(\" \")\n",
    "        for j, word in enumerate(split):\n",
    "            if word != \"nhs\":\n",
    "                split[j] = word.capitalize() \n",
    "            else:\n",
    "                split[j] = \"NHS\" \n",
    "        stringList[i] = \" \".join(split)\n",
    "    return stringList\n",
    "\n",
    "def combineLists(list1, list2):\n",
    "    allElements = list1\n",
    "    for item in list2:\n",
    "        if item not in allElements:\n",
    "            allElements = np.append(allElements, item)\n",
    "            \n",
    "    return allElements\n"
   ]
  },
  {
   "cell_type": "code",
   "execution_count": 2,
   "metadata": {},
   "outputs": [],
   "source": [
    "bednames = np.load(\"../../../../Documents/Politics/NHSdata/NHSbeds.npy\", allow_pickle=True)[0]\n",
    "anenames = np.load(\"../../../../Documents/Politics/NHSdata/NHSwaiting.npy\", allow_pickle=True)[0]\n",
    "\n",
    "# fix names\n",
    "anenames = np.delete(anenames, [0,1]) # Remove England and nan\n",
    "bednames = capitaliseFirst(bednames) # Fix formating\n"
   ]
  },
  {
   "cell_type": "code",
   "execution_count": 3,
   "metadata": {},
   "outputs": [],
   "source": [
    "url = \"https://en.wikipedia.org/wiki/Manchester_University_NHS_Foundation_Trust\"\n",
    "test = wl.getWikiRefs(url)"
   ]
  },
  {
   "cell_type": "code",
   "execution_count": 4,
   "metadata": {},
   "outputs": [
    {
     "name": "stdout",
     "output_type": "stream",
     "text": [
      "Title:\t Contact Us \n",
      "Source:\t Manchester University NHS Foundation Trust \n",
      "Date:\t 10 January 2020 \n",
      "URL:\t https://mft.nhs.uk/contact-us/ \n",
      "Image:\t https://mft.nhs.uk/app/uploads/2017/09/ETA-6952-MFTHub-banner-trust-desktop-V3.jpg \n",
      "Desc:\t Contact information For Manchester Royal Infirmary, Trafford General Hospital, Altrincham Hospital, Manchester Royal Eye Hospital. \n",
      "\n",
      "Title:\t Annual Report and Accounts 1st April 2018 to 31st March 2019 \n",
      "Source:\t Manchester University NHS Foundation Trust \n",
      "Date:\t 10 January 2020 \n",
      "URL:\t https://mft.nhs.uk/app/uploads/2019/06/MFT-Annual-Report-and-Accounts-FINAL-2018-19.pdf \n",
      "Image:\t https://upload.wikimedia.org/wikipedia/commons/thumb/8/87/PDF_file_icon.svg/800px-PDF_file_icon.svg.png \n",
      "Desc:\t Downloadable pdf. \n",
      "\n",
      "Title:\t Multi-million pound merger of two Manchester hospital trusts to go ahead later this year \n",
      "Source:\t Manchester Evening News \n",
      "Date:\t 3 September 2017 \n",
      "URL:\t http://www.manchestereveningnews.co.uk/news/greater-manchester-news/multi-million-pound-merger-two-13417168 \n",
      "Image:\t https://i2-prod.manchestereveningnews.co.uk/incoming/article12421343.ece/ALTERNATES/s1200/NO-BYLINE-NO-BYLINE-NO-BYLINE-NO-BYLINE-.jpg \n",
      "Desc:\t The new Manchester University NHS Foundation Trust is expected to come into being on October 1. \n",
      "\n",
      "Title:\t Manchester University NHS Foundation Trust Annual Report and Accounts 1st April 2018 to 31st March 2019 \n",
      "Source:\t Manchester University NHS Foundation TrustManchester University NHS Foundation Trust  \n",
      "Date:\t 29 July 2019 \n",
      "URL:\t https://mft.nhs.uk/app/uploads/2019/06/MFT-Annual-Report-and-Accounts-FINAL-2018-19.pdf \n",
      "Image:\t https://upload.wikimedia.org/wikipedia/commons/thumb/8/87/PDF_file_icon.svg/800px-PDF_file_icon.svg.png \n",
      "Desc:\t Downloadable pdf. \n",
      "\n",
      "Title:\t Northern Care Alliance - Care Organisations \n",
      "Source:\t Manchester Evening news \n",
      "Date:\t 15 May 2020 \n",
      "URL:\t https://www.pat.nhs.uk/downloads/board/trust-profiles/care-organisations.htm \n",
      "Image:\t None \n",
      "Desc:\t The four care organisations that will manage our hospital and community services are Bury/Rochdale Care Organisation, North Manchester care Organisation, Oldham Care Organisation and Salford Care Organisation. \n",
      "\n",
      "Title:\t Biggest NHS trust in line for £125m government loans \n",
      "Source:\t Health Service Journal \n",
      "Date:\t 26 January 2018 \n",
      "URL:\t https://www.hsj.co.uk/central-manchester-university-hospitals-nhs-foundation-trust/biggest-nhs-trust-secures-125m-government-loans/7021531.article \n",
      "Image:\t None \n",
      "Desc:\t None \n",
      "\n",
      "Title:\t Construction work begins on first-of-a-kind hospital helipad \n",
      "Source:\t Building Better Healthcare  \n",
      "Date:\t 25 August 2019 \n",
      "URL:\t https://www.buildingbetterhealthcare.co.uk/news/article_page/Construction_work_begins_on_first-of-a-kind_hospital_helipad/156202/cn164706 \n",
      "Image:\t None \n",
      "Desc:\t Critically-ill patients to be more easily transferred to four Manchester hospitals. \n",
      "\n",
      "Title:\t Manchester NHS trust invests £10.9m in new energy technology \n",
      "Source:\t Building Better Healthcare  \n",
      "Date:\t 1 October 2019 \n",
      "URL:\t https://www.buildingbetterhealthcare.co.uk/news/article_page/Manchester_NHS_trust_invests_109m_in_new_energy_technology/157158/cn164706 \n",
      "Image:\t None \n",
      "Desc:\t Energy Performance Contract funds improvements at Wythenshawe Hospital and Withington Community Hospital. \n",
      "\n",
      "Title:\t FT drops 'better value for money' IT system in £400m deal \n",
      "Source:\t Health Service Journal  \n",
      "Date:\t 21 February 2020 \n",
      "URL:\t https://www.hsj.co.uk/central-manchester-university-hospitals-nhs-foundation-trust/ft-drops-better-value-for-money-it-system-in-400m-deal/7026511.article \n",
      "Image:\t None \n",
      "Desc:\t None \n",
      "\n",
      "Title:\t Manchester University NHS FT seals the deal with Epic for EPR solution \n",
      "Source:\t Digital Health  \n",
      "Date:\t 6 June 2020 \n",
      "URL:\t https://www.digitalhealth.net/2020/05/manchester-university-nhs-ft-epic/? \n",
      "Image:\t https://cdn.digitalhealth.net/wp-content/uploads/2020/05/Manchester-University.jpg \n",
      "Desc:\t Manchester University NHS Foundation Trust (MFT) has sealed the deal with Epic which will see a new electronic patient record (EPR) solution implemented. \n",
      "\n",
      "Title:\t Two health organisations receive cash to build and improve hospital helipads \n",
      "Source:\t Building Better Healthcare  \n",
      "Date:\t 23 March 2020 \n",
      "URL:\t https://www.buildingbetterhealthcare.com/news/article_page/Two_health_organisations_receive_cash_to_build_and_improve_hospital_helipads/161855/cn164706 \n",
      "Image:\t None \n",
      "Desc:\t Manchester trust and London Air Ambulance Service share more than £1m to invest in landing sites for major trauma patients. \n",
      "\n",
      "Title:\t Link bridge to lifesaving helipad marks major milestone \n",
      "Source:\t Building Better Healthcare  \n",
      "Date:\t 30 August 2020 \n",
      "URL:\t https://buildingbetterhealthcare.com/news/article_page/Link_bridge_to_lifesaving_helipad_marks_major_milestone/167657/cn164706 \n",
      "Image:\t None \n",
      "Desc:\t Patients flying into Manchester University NHS Foundation Trust’s Oxford Road Campus will soon have direct access to A and E services. \n",
      "\n",
      "Title:\t Trusts missing out on tens of millions from overseas patients \n",
      "Source:\t Health Service Journal  \n",
      "Date:\t 9 January 2020 \n",
      "URL:\t https://www.hsj.co.uk/finance-and-efficiency/trusts-missing-out-on-tens-of-millions-from-overseas-patients/7026384.article \n",
      "Image:\t None \n",
      "Desc:\t None \n",
      "\n"
     ]
    }
   ],
   "source": [
    "for item in test:\n",
    "    item.print_ref()"
   ]
  },
  {
   "cell_type": "code",
   "execution_count": 9,
   "metadata": {},
   "outputs": [
    {
     "name": "stdin",
     "output_type": "stream",
     "text": [
      "New title: Google\n",
      "Is this correct? [y/n] : y\n"
     ]
    }
   ],
   "source": [
    "test[0].update(\"title\")"
   ]
  },
  {
   "cell_type": "code",
   "execution_count": 10,
   "metadata": {},
   "outputs": [
    {
     "name": "stdout",
     "output_type": "stream",
     "text": [
      "Title:\t Google \n",
      "Source:\t Manchester University NHS Foundation Trust \n",
      "Date:\t 10 January 2020 \n",
      "URL:\t www.google.com \n",
      "Image:\t https://mft.nhs.uk/app/uploads/2017/09/ETA-6952-MFTHub-banner-trust-desktop-V3.jpg \n",
      "Desc:\t Contact information For Manchester Royal Infirmary, Trafford General Hospital, Altrincham Hospital, Manchester Royal Eye Hospital. \n",
      "\n"
     ]
    }
   ],
   "source": [
    "test[0].print_ref()"
   ]
  },
  {
   "cell_type": "code",
   "execution_count": null,
   "metadata": {},
   "outputs": [],
   "source": []
  }
 ],
 "metadata": {
  "kernelspec": {
   "display_name": "Python 3",
   "language": "python",
   "name": "python3"
  },
  "language_info": {
   "codemirror_mode": {
    "name": "ipython",
    "version": 3
   },
   "file_extension": ".py",
   "mimetype": "text/x-python",
   "name": "python",
   "nbconvert_exporter": "python",
   "pygments_lexer": "ipython3",
   "version": "3.7.6"
  }
 },
 "nbformat": 4,
 "nbformat_minor": 4
}
